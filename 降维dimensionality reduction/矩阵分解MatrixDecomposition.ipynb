{
 "cells": [
  {
   "cell_type": "markdown",
   "id": "f008b6f5",
   "metadata": {},
   "source": [
    "# 矩阵分解 matrix decomposition\n",
    "\n",
    "在推荐系统中，分解评分矩阵是一种常见的技术，用于潜在因子模型（比如矩阵分解模型）来推荐用户可能喜欢的内容。评分矩阵分解有很多种方法，最常见的包括普通矩阵分解（如梯度下降矩阵分解）和奇异值分解（SVD）。\n",
    "\n",
    "In recommendation systems, decomposing the rating matrix is a common technique used for latent factor models (such as matrix factorization models) to recommend content that users might like. There are many methods for decomposing the rating matrix, with the most common ones including standard matrix factorization (such as gradient descent matrix factorization) and singular value decomposition (SVD)."
   ]
  },
  {
   "cell_type": "code",
   "execution_count": 18,
   "id": "7fef1f2e",
   "metadata": {},
   "outputs": [
    {
     "name": "stdout",
     "output_type": "stream",
     "text": [
      "原始评分矩阵 (Original rating matrix):\n",
      "[[ 0  4  0  5  7 10  3  0  8  5]\n",
      " [ 4  8  8  3  0  0  0  8  6  0]\n",
      " [ 5  1  0  6  0  1  0  3  7  0]\n",
      " [ 0  3  5  3  7  0  9  0  2  4]\n",
      " [ 9  0 10  9 10  5  2  4  0  8]]\n"
     ]
    }
   ],
   "source": [
    "import numpy as np\n",
    "\n",
    "def getRatingsMatrix():\n",
    "    # 设置随机种子以便结果可复现\n",
    "    # Set random seed for reproducibility\n",
    "    np.random.seed(42)\n",
    "\n",
    "    # 生成一个 5x10 的评分矩阵，评分范围为 1-10\n",
    "    # Generate a 10x20 rating matrix with scores ranging from 1 to 10\n",
    "    ratings = np.random.randint(1, 11, size=(5, 10))\n",
    "\n",
    "    # 随机引入未评分的情况，设置为 0\n",
    "    # Randomly introduce 'not rated' cases, set to 0\n",
    "    mask = np.random.rand(5, 10) < 0.3  # 30% 的评分将被设为 0（未评分）\n",
    "                                        # 30% of the ratings will be set to 0 (not rated)\n",
    "\n",
    "    # 根据掩码将矩阵中选定的元素设置为 0\n",
    "    # Set values to 0 (not rated) in the matrix according to the mask\n",
    "    ratings[mask] = 0\n",
    "    \n",
    "    return ratings\n",
    "\n",
    "# 打印原始评分矩阵\n",
    "# Print the original rating matrix\n",
    "ratings = getRatingsMatrix()\n",
    "print(\"原始评分矩阵 (Original rating matrix):\")\n",
    "print(ratings)"
   ]
  },
  {
   "attachments": {
    "image.png": {
     "image/png": "[encoded data removed]"
    }
   },
   "cell_type": "markdown",
   "id": "c5fd2c28",
   "metadata": {},
   "source": [
    "### 普通矩阵分解（Matrix Factorization）\n",
    "\n",
    "普通的矩阵分解通常是指使用优化方法（如梯度下降、交替最小二乘法等）来分解评分矩阵。它的目标是将用户-物品的评分矩阵R分解为两个低秩矩阵U和V，其中U是用户的潜在因子矩阵，V是物品的潜在因子矩阵：\n",
    "\n",
    "Plain matrix factorization usually refers to the use of optimization methods (such as gradient descent, alternating least squares, etc.) to decompose the rating matrix. The goal is to decompose the user-item rating matrix R into two low-rank matrices U and V, where U is the latent factor matrix for users, and V is the latent factor matrix for items:\n",
    "\n",
    "\n",
    "![image.png](attachment:image.png)\n",
    "\n",
    "这种分解的核心思想是通过优化（如最小化误差函数）来学习出合适的潜在因子，使得矩阵的重构误差最小化。通常采用梯度下降法来更新用户和物品的潜在因子。\n",
    "\n",
    "The core idea behind this decomposition is to learn appropriate latent factors by optimizing (e.g., minimizing an error function) in order to minimize the reconstruction error of the matrix. Typically, gradient descent is used to update the latent factors of users and items."
   ]
  },
  {
   "cell_type": "markdown",
   "id": "ae0ede4a",
   "metadata": {},
   "source": [
    "**优点 Advantages**\n",
    "- 可以处理稀疏矩阵（即评分矩阵中有大量缺失值）。 \n",
    "- 通过正则化可以控制模型的复杂度，防止过拟合。\n",
    "- Can handle sparse matrices (i.e., rating matrices with many missing values)\n",
    "- Regularization can be used to control the complexity of the model and prevent overfitting.\n",
    "\n",
    "**缺点 Disadvantages**\n",
    "- 需要设定潜在因子数 k；\n",
    "- 需要手动选择优化方法，训练过程可能比较耗时。\n",
    "- Requires setting the number of latent factors k.\n",
    "- The optimization method must be manually chosen, and the training process can be time-consuming."
   ]
  },
  {
   "cell_type": "code",
   "execution_count": 19,
   "id": "55b9d5e4",
   "metadata": {
    "scrolled": false
   },
   "outputs": [
    {
     "name": "stdout",
     "output_type": "stream",
     "text": [
      "\n",
      "矩阵 U (Matrix U):\n",
      "[[0.         4.0355817  0.        ]\n",
      " [0.         0.         3.02841333]\n",
      " [0.         0.75768428 1.37998358]\n",
      " [1.59969792 1.06810983 0.        ]\n",
      " [4.23595825 0.         0.22455959]]\n",
      "\n",
      "矩阵 V (Matrix V):\n",
      "[[1.7788129  0.         1.73848968]\n",
      " [0.0497708  0.98406197 2.20482362]\n",
      " [2.35515614 0.         2.17800366]\n",
      " [1.9188532  1.28469334 1.45762638]\n",
      " [2.46636949 1.75056438 0.        ]\n",
      " [0.84941033 2.20334726 0.        ]\n",
      " [1.02298564 1.10949154 0.        ]\n",
      " [0.70719913 0.         2.5698915 ]\n",
      " [0.         2.07284281 2.30656645]\n",
      " [1.86653341 1.18111498 0.        ]]\n",
      "\n",
      "分解后的近似评分矩阵 (Approximated rating matrix U * V^T):\n",
      "[[ 0.          3.97126246  0.          5.18448495  7.06454559  8.89178787\n",
      "   4.47744375  0.          8.36512652  4.766486  ]\n",
      " [ 5.26486533  6.67711726  6.59589532  4.41429516  0.          0.\n",
      "   0.          7.7826937   6.98523659  0.        ]\n",
      " [ 2.39908722  3.78822869  3.0056093   2.98489242  1.32637511  1.66944158\n",
      "   0.8406443   3.54640809  4.75358424  0.89491225]\n",
      " [ 2.8455633   1.1307045   3.76753837  4.44177904  5.81524115  3.71221679\n",
      "   2.82152681  1.13130498  2.21402377  4.24745011]\n",
      " [ 7.92537173  0.70594133 10.46543471  8.45550601 10.44743818  3.5980667\n",
      "   4.33332445  3.5727598   0.51796163  7.90655758]]\n",
      "\n",
      "原始评分矩阵与分解矩阵之间的误差 (Error between original and factorized matrix):\n",
      "11.570242653795164\n"
     ]
    }
   ],
   "source": [
    "import numpy as np\n",
    "from sklearn.decomposition import NMF\n",
    "\n",
    "\n",
    "# 将评分矩阵中的 0 替换为一个小的正数以适合 NMF\n",
    "# Replace 0 in the rating matrix with a small positive number for NMF compatibility\n",
    "ratings[ratings == 0] = 1e-5\n",
    "\n",
    "# 初始化 NMF 模型，指定潜在因子数 K=3\n",
    "# Initialize the NMF model with number of latent factors K=3\n",
    "K = 3\n",
    "model = NMF(n_components=K, init='random', random_state=42)\n",
    "\n",
    "# 对评分矩阵进行分解\n",
    "# Perform matrix factorization on the rating matrix\n",
    "U = model.fit_transform(ratings)\n",
    "V = model.components_\n",
    "\n",
    "# 打印分解后的矩阵 U 和 V\n",
    "# Print the decomposed matrices U and V\n",
    "print(\"\\n矩阵 U (Matrix U):\")\n",
    "print(U)\n",
    "\n",
    "print(\"\\n矩阵 V (Matrix V):\")\n",
    "print(V.T)\n",
    "\n",
    "# 计算 U * V^T 得到近似的评分矩阵\n",
    "# Calculate the approximate rating matrix U * V^T\n",
    "predicted_ratings = np.dot(U, V)\n",
    "\n",
    "# 打印分解后的近似评分矩阵\n",
    "# Print the approximated rating matrix\n",
    "print(\"\\n分解后的近似评分矩阵 (Approximated rating matrix U * V^T):\")\n",
    "print(predicted_ratings)\n",
    "\n",
    "# 计算分解后的矩阵与原始评分矩阵的误差（仅考虑原始评分矩阵中的非零项）\n",
    "# Calculate the error between the original and the approximated rating matrix (only for non-zero entries)\n",
    "error = np.sqrt(np.sum((ratings - predicted_ratings) ** 2))\n",
    "print(\"\\n原始评分矩阵与分解矩阵之间的误差 (Error between original and factorized matrix):\")\n",
    "print(error)"
   ]
  },
  {
   "cell_type": "code",
   "execution_count": 22,
   "id": "3187dfc2",
   "metadata": {},
   "outputs": [
    {
     "name": "stdout",
     "output_type": "stream",
     "text": [
      "K=1, Error=21.8069\n",
      "K=2, Error=16.8765\n",
      "K=3, Error=11.5702\n",
      "K=4, Error=8.8960\n",
      "K=5, Error=0.0367\n",
      "K=6, Error=0.0417\n",
      "K=7, Error=0.0422\n",
      "K=8, Error=0.0251\n",
      "K=9, Error=0.0588\n",
      "K=10, Error=0.0357\n"
     ]
    },
    {
     "data": {
      "image/png": "[encoded data removed]",
      "text/plain": [
       "<Figure size 800x600 with 1 Axes>"
      ]
     },
     "metadata": {},
     "output_type": "display_data"
    }
   ],
   "source": [
    "import numpy as np\n",
    "from sklearn.decomposition import NMF\n",
    "import matplotlib.pyplot as plt\n",
    "\n",
    "ratings = getRatingsMatrix()\n",
    "\n",
    "# 存储每个 K 值对应的误差\n",
    "# Store the error for each K value\n",
    "errors = []\n",
    "\n",
    "# 尝试不同的 K 值，从 1 到 10\n",
    "# Try different K values from 1 to 10\n",
    "for K in range(1, 11):\n",
    "    # 初始化 NMF 模型\n",
    "    # Initialize the NMF model\n",
    "    model = NMF(n_components=K, init='random', random_state=42, max_iter=500)\n",
    "    \n",
    "    # 对评分矩阵进行分解\n",
    "    # Perform matrix factorization on the rating matrix\n",
    "    U = model.fit_transform(ratings)\n",
    "    V = model.components_\n",
    "\n",
    "    # 计算 U * V^T 得到近似的评分矩阵\n",
    "    # Calculate the approximated rating matrix U * V^T\n",
    "    predicted_ratings = np.dot(U, V)\n",
    "\n",
    "    # 计算分解后的矩阵与原始评分矩阵的误差（仅考虑原始评分矩阵中的非零项）\n",
    "    # Calculate the error between the original and the approximated rating matrix (only for non-zero entries)\n",
    "    error = np.sqrt(np.sum((ratings - predicted_ratings) ** 2))\n",
    "    \n",
    "    # 保存误差\n",
    "    # Store the error\n",
    "    errors.append(error)\n",
    "\n",
    "# 打印所有 K 值对应的误差\n",
    "# Print the errors for all K values\n",
    "for i, error in enumerate(errors, start=1):\n",
    "    print(f\"K={i}, Error={error:.4f}\")\n",
    "\n",
    "# 绘制 K 与误差的关系图\n",
    "# Plot the relationship between K and error\n",
    "plt.figure(figsize=(8, 6))\n",
    "plt.plot(range(1, 11), errors, marker='o', linestyle='--', color='b')\n",
    "plt.title('K vs Error', fontsize=16)\n",
    "plt.xlabel('Number of latent factors', fontsize=12)\n",
    "plt.ylabel('Error', fontsize=12)\n",
    "plt.xticks(range(1, 11))\n",
    "plt.grid(True)\n",
    "plt.show()"
   ]
  },
  {
   "attachments": {
    "image.png": {
     "image/png": "[encoded data removed]"
    }
   },
   "cell_type": "markdown",
   "id": "8ba30bb5",
   "metadata": {},
   "source": [
    "### 奇异值分解（SVD, Singular Value Decomposition）\n",
    "\n",
    "SVD 是一种线性代数中的矩阵分解技术，它将一个矩阵 R 分解为三个矩阵的乘积：\n",
    "\n",
    "SVD is a matrix decomposition technique in linear algebra that decomposes a matrix R into the product of three matrices:\n",
    "\n",
    "![image.png](attachment:image.png)\n",
    "\n",
    "其中：\n",
    "- U 是一个用户矩阵，表示用户在潜在特征空间中的表示（用户特征矩阵）。\n",
    "- Σ 是一个对角矩阵，包含奇异值，表示特征的重要性。\n",
    "- V^T 是物品矩阵的转置，表示物品在潜在特征空间中的表示（物品特征矩阵）。\n",
    "\n",
    "Where:\n",
    "- U is a user matrix, representing the users' representation in the latent feature space (user feature matrix).\n",
    "- Σ is a diagonal matrix containing singular values, representing the importance of the features.\n",
    "- V^T is the transpose of the item matrix, representing the items' representation in the latent feature space (item feature matrix)."
   ]
  },
  {
   "attachments": {
    "image.png": {
     "image/png": "[encoded data removed]"
    }
   },
   "cell_type": "markdown",
   "id": "17a2bf7e",
   "metadata": {},
   "source": [
    "在推荐系统中，通常只取前 k 个最大的奇异值及对应的奇异向量，从而得到一个近似的低秩矩阵：\n",
    "\n",
    "In recommendation systems, typically only the top k largest singular values and their corresponding singular vectors are retained to obtain an approximate low-rank matrix:\n",
    "![image.png](attachment:image.png)\n",
    "\n",
    "这和普通矩阵分解有相似的地方，都是通过低秩矩阵来近似原始评分矩阵，但 SVD 是一种更为严格的数学分解方法，且通常需要对评分矩阵进行填充或处理缺失值。\n",
    "\n",
    "This is similar to standard matrix factorization in that both approximate the original rating matrix using a low-rank matrix. However, SVD is a more rigorous mathematical decomposition method and usually requires filling in or handling missing values in the rating matrix."
   ]
  },
  {
   "cell_type": "markdown",
   "id": "8c35910d",
   "metadata": {},
   "source": [
    "**优点 Advantages**\n",
    "- 数学上理论严谨，分解唯一且稳定。\n",
    "- 可以直接得到矩阵的最优近似（截断奇异值后）。\n",
    "- Mathematically rigorous, with a unique and stable decomposition.\n",
    "- Provides the optimal approximation of the matrix (after truncating singular values).\n",
    "\n",
    "**缺点 Disadvantages**\n",
    "- 无法直接处理稀疏矩阵，必须对缺失值进行处理（如填补）。\n",
    "- 对大规模矩阵计算开销较大。\n",
    "- Cannot directly handle sparse matrices; missing values must be processed (e.g., filled in).\n",
    "- Computationally expensive for large-scale matrices."
   ]
  },
  {
   "cell_type": "code",
   "execution_count": 23,
   "id": "7e567112",
   "metadata": {
    "scrolled": false
   },
   "outputs": [
    {
     "name": "stdout",
     "output_type": "stream",
     "text": [
      "\n",
      "矩阵 U (Matrix U):\n",
      "[[-0.45204293  0.34959965  0.7475004  -0.10574332 -0.32171225]\n",
      " [-0.36967082 -0.79498544  0.05256909  0.34152032 -0.33457734]\n",
      " [-0.24490218 -0.34907945  0.29564314 -0.36665545  0.77222106]\n",
      " [-0.36146614  0.31507241 -0.07642487  0.76622884  0.42086126]\n",
      " [-0.68437257  0.15700684 -0.58756618 -0.38812287 -0.10540237]]\n",
      "\n",
      "奇异值 Σ (Singular values Σ):\n",
      "[29.16262027 13.8619289  12.41635076  9.75537271  5.8357042 ]\n",
      "\n",
      "矩阵 V^T (Matrix V^T):\n",
      "[[-0.30390093 -0.2089949  -0.3980583  -0.41431091 -0.42994385 -0.28074276\n",
      "  -0.20499081 -0.22047276 -0.28363761 -0.31482287]\n",
      " [-0.25337581 -0.31491628 -0.23189075 -0.02691948  0.44891104  0.28365109\n",
      "   0.30287736 -0.4890441  -0.27316016  0.30762982]\n",
      " [-0.28990833  0.28002776 -0.47012472  0.01221759 -0.09488561  0.38923001\n",
      "   0.03056816 -0.08398463  0.66139159 -0.10218195]\n",
      " [-0.40596109  0.43475739  0.27493344 -0.2971191   0.07607808 -0.34490768\n",
      "   0.59480904  0.00817035  0.01732839 -0.05830471]\n",
      " [ 0.26974887 -0.3304936  -0.27868722  0.40012233 -0.06168589 -0.50926386\n",
      "   0.44755693 -0.13392814  0.28550247 -0.13166109]]\n",
      "\n",
      "近似评分矩阵 (Approximated rating matrix U * Σ * V^T):\n",
      "[[ 8.44236491e-15  4.00000000e+00  1.06606594e-14  5.00000000e+00\n",
      "   7.00000000e+00  1.00000000e+01  3.00000000e+00  4.37314573e-15\n",
      "   8.00000000e+00  5.00000000e+00]\n",
      " [ 4.00000000e+00  8.00000000e+00  8.00000000e+00  3.00000000e+00\n",
      "   1.58018754e-15  2.39436392e-14  5.85625987e-15  8.00000000e+00\n",
      "   6.00000000e+00 -5.41378596e-16]\n",
      " [ 5.00000000e+00  1.00000000e+00 -8.81941142e-15  6.00000000e+00\n",
      "   2.11469557e-15  1.00000000e+00  1.66666970e-15  3.00000000e+00\n",
      "   7.00000000e+00  2.74752879e-15]\n",
      " [ 6.18564312e-15  3.00000000e+00  5.00000000e+00  3.00000000e+00\n",
      "   7.00000000e+00  7.95891335e-16  9.00000000e+00  2.68458463e-15\n",
      "   2.00000000e+00  4.00000000e+00]\n",
      " [ 9.00000000e+00 -4.87423955e-16  1.00000000e+01  9.00000000e+00\n",
      "   1.00000000e+01  5.00000000e+00  2.00000000e+00  4.00000000e+00\n",
      "   1.79285776e-15  8.00000000e+00]]\n",
      "\n",
      "原始评分矩阵与分解矩阵之间的误差 (Error between original and factorized matrix):\n",
      "5.4190257643711135e-14\n"
     ]
    }
   ],
   "source": [
    "import numpy as np\n",
    "from numpy.linalg import svd\n",
    "\n",
    "ratings = getRatingsMatrix()\n",
    "\n",
    "# 使用 NumPy 的 SVD 进行分解\n",
    "# Perform SVD decomposition using NumPy\n",
    "U, Sigma, Vt = svd(ratings, full_matrices=False)\n",
    "\n",
    "# 打印分解出的 U, Sigma, V 矩阵\n",
    "# Print the decomposed matrices U, Sigma, and V\n",
    "print(\"\\n矩阵 U (Matrix U):\")\n",
    "print(U)\n",
    "\n",
    "print(\"\\n奇异值 Σ (Singular values Σ):\")\n",
    "print(Sigma)\n",
    "\n",
    "print(\"\\n矩阵 V^T (Matrix V^T):\")\n",
    "print(Vt)\n",
    "\n",
    "# 将奇异值矩阵 Σ 转换为对角矩阵\n",
    "# Convert the singular values Σ into a diagonal matrix\n",
    "Sigma_diag = np.diag(Sigma)\n",
    "\n",
    "# 通过 U * Σ * V^T 还原近似评分矩阵\n",
    "# Reconstruct the approximated rating matrix using U * Σ * V^T\n",
    "predicted_ratings = np.dot(np.dot(U, Sigma_diag), Vt)\n",
    "\n",
    "# 打印近似的评分矩阵\n",
    "# Print the approximated rating matrix\n",
    "print(\"\\n近似评分矩阵 (Approximated rating matrix U * Σ * V^T):\")\n",
    "print(predicted_ratings)\n",
    "\n",
    "# 计算原始评分矩阵与分解矩阵之间的误差（仅考虑原始评分矩阵中的非零项）\n",
    "# Calculate the error between the original and the approximated rating matrix (only for non-zero entries)\n",
    "error = np.sqrt(np.sum((ratings[ratings > 0] - predicted_ratings[ratings > 0]) ** 2))\n",
    "print(\"\\n原始评分矩阵与分解矩阵之间的误差 (Error between original and factorized matrix):\")\n",
    "print(error)"
   ]
  },
  {
   "cell_type": "code",
   "execution_count": 25,
   "id": "3259e2df",
   "metadata": {},
   "outputs": [
    {
     "name": "stdout",
     "output_type": "stream",
     "text": [
      "K=1, Error=16.6699\n",
      "K=2, Error=13.4170\n",
      "K=3, Error=9.9864\n",
      "K=4, Error=4.8344\n",
      "K=5, Error=0.0000\n",
      "K=6, Error=0.0000\n",
      "K=7, Error=0.0000\n",
      "K=8, Error=0.0000\n",
      "K=9, Error=0.0000\n",
      "K=10, Error=0.0000\n"
     ]
    },
    {
     "data": {
      "image/png": "[encoded data removed]",
      "text/plain": [
       "<Figure size 800x600 with 1 Axes>"
      ]
     },
     "metadata": {},
     "output_type": "display_data"
    }
   ],
   "source": [
    "# 保存不同特征数量下的误差\n",
    "# Store the error for different numbers of features\n",
    "errors = []\n",
    "\n",
    "# 我们将从1到10个特征进行近似\n",
    "# We will approximate the matrix using 1 to 10 features\n",
    "for k in range(1, 11):\n",
    "    # 保留前 k 个奇异值\n",
    "    # Retain the first k singular values\n",
    "    Sigma_k = np.diag(Sigma[:k])\n",
    "    \n",
    "    # 计算近似的评分矩阵\n",
    "    # Compute the approximated rating matrix\n",
    "    U_k = U[:, :k]  # 取前 k 列\n",
    "    Vt_k = Vt[:k, :]  # 取前 k 行\n",
    "    predicted_ratings_k = np.dot(np.dot(U_k, Sigma_k), Vt_k)\n",
    "    \n",
    "    # 计算原始评分矩阵与近似评分矩阵之间的误差（仅考虑原始评分矩阵中的非零项）\n",
    "    # Calculate the error between the original and the approximated rating matrix (only for non-zero entries)\n",
    "    error = np.sqrt(np.sum((ratings[ratings > 0] - predicted_ratings_k[ratings > 0]) ** 2))\n",
    "    \n",
    "    # 保存误差\n",
    "    # Store the error\n",
    "    errors.append(error)\n",
    "\n",
    "# 打印所有特征数量对应的误差\n",
    "# Print the errors for all numbers of features\n",
    "for i, error in enumerate(errors, start=1):\n",
    "    print(f\"K={i}, Error={error:.4f}\")\n",
    "\n",
    "# 绘制 特征数量 与 误差 的关系图\n",
    "# Plot the relationship between number of features and error\n",
    "plt.figure(figsize=(8, 6))\n",
    "plt.plot(range(1, 11), errors, marker='o', linestyle='--', color='b')\n",
    "plt.title('Number of Features vs Error', fontsize=16)\n",
    "plt.xlabel('Number of features', fontsize=12)\n",
    "plt.ylabel('Error', fontsize=12)\n",
    "plt.xticks(range(1, 11))\n",
    "plt.grid(True)\n",
    "plt.show()"
   ]
  }
 ],
 "metadata": {
  "kernelspec": {
   "display_name": "Python 3 (ipykernel)",
   "language": "python",
   "name": "python3"
  },
  "language_info": {
   "codemirror_mode": {
    "name": "ipython",
    "version": 3
   },
   "file_extension": ".py",
   "mimetype": "text/x-python",
   "name": "python",
   "nbconvert_exporter": "python",
   "pygments_lexer": "ipython3",
   "version": "3.11.7"
  },
  "toc": {
   "base_numbering": 1,
   "nav_menu": {},
   "number_sections": false,
   "sideBar": true,
   "skip_h1_title": false,
   "title_cell": "Table of Contents",
   "title_sidebar": "Contents",
   "toc_cell": false,
   "toc_position": {
    "height": "calc(100% - 180px)",
    "left": "10px",
    "top": "150px",
    "width": "373.333px"
   },
   "toc_section_display": true,
   "toc_window_display": false
  }
 },
 "nbformat": 4,
 "nbformat_minor": 5
}
